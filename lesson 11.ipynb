{
 "cells": [
  {
   "cell_type": "markdown",
   "id": "6ea93cc2",
   "metadata": {},
   "source": [
    "1. Определить корни"
   ]
  },
  {
   "cell_type": "code",
   "execution_count": 1,
   "id": "9cc33082",
   "metadata": {},
   "outputs": [
    {
     "data": {
      "text/plain": [
       "[-3/4, 1/2]"
      ]
     },
     "execution_count": 1,
     "metadata": {},
     "output_type": "execute_result"
    }
   ],
   "source": [
    "from sympy import *\n",
    "x = Symbol('x', real=True)\n",
    "f = Function('f')\n",
    "f = -8*x**2 - 2*x +3\n",
    "roots = solve(Eq(f, 0), x)\n",
    "roots"
   ]
  },
  {
   "cell_type": "code",
   "execution_count": 2,
   "id": "7d3b0a19",
   "metadata": {
    "scrolled": true
   },
   "outputs": [
    {
     "name": "stdout",
     "output_type": "stream",
     "text": [
      "-0.75\n",
      "0.5\n"
     ]
    }
   ],
   "source": [
    "for i in roots:\n",
    "    print(float(i))"
   ]
  },
  {
   "cell_type": "code",
   "execution_count": null,
   "id": "ceb764a0",
   "metadata": {},
   "outputs": [],
   "source": [
    "2. Найти интервалы, на которых функция возрастает"
   ]
  },
  {
   "cell_type": "code",
   "execution_count": 3,
   "id": "8d5a7b9f",
   "metadata": {},
   "outputs": [
    {
     "data": {
      "text/latex": [
       "$\\displaystyle x < - \\frac{1}{8}$"
      ],
      "text/plain": [
       "x < -1/8"
      ]
     },
     "execution_count": 3,
     "metadata": {},
     "output_type": "execute_result"
    }
   ],
   "source": [
    "df = f.diff(x)\n",
    "df\n",
    "solve(df > 0, x)"
   ]
  },
  {
   "cell_type": "markdown",
   "id": "b319c80e",
   "metadata": {},
   "source": [
    "3.Интервалы, на которых функция убывает:"
   ]
  },
  {
   "cell_type": "code",
   "execution_count": 4,
   "id": "ccbe77fa",
   "metadata": {},
   "outputs": [
    {
     "data": {
      "text/latex": [
       "$\\displaystyle - \\frac{1}{8} < x$"
      ],
      "text/plain": [
       "-1/8 < x"
      ]
     },
     "execution_count": 4,
     "metadata": {},
     "output_type": "execute_result"
    }
   ],
   "source": [
    "solve(df < 0, x)"
   ]
  },
  {
   "cell_type": "markdown",
   "id": "1dd83299",
   "metadata": {},
   "source": [
    "4. Построить график"
   ]
  },
  {
   "cell_type": "code",
   "execution_count": 6,
   "id": "40f0c884",
   "metadata": {},
   "outputs": [
    {
     "data": {
      "image/png": "[encoded data removed]",
      "text/plain": [
       "<Figure size 640x480 with 1 Axes>"
      ]
     },
     "metadata": {},
     "output_type": "display_data"
    },
    {
     "data": {
      "text/plain": [
       "<sympy.plotting.plot.Plot at 0x22b2dd87430>"
      ]
     },
     "execution_count": 6,
     "metadata": {},
     "output_type": "execute_result"
    }
   ],
   "source": [
    "plot(f,(x,-2,2))"
   ]
  },
  {
   "cell_type": "markdown",
   "id": "ce631bea",
   "metadata": {},
   "source": [
    "5. Вычислить вершину"
   ]
  },
  {
   "cell_type": "code",
   "execution_count": 7,
   "id": "62e34392",
   "metadata": {},
   "outputs": [
    {
     "name": "stdout",
     "output_type": "stream",
     "text": [
      "x=-0.125, y=3.125\n"
     ]
    }
   ],
   "source": [
    "def parabola(a, b, c):\n",
    "    x = -b / (2 * a)\n",
    "    y = ((4 * a * c) - (b * b)) / (4 * a)\n",
    "    print(f'x={x}, y={y}')\n",
    "\n",
    "parabola(-8, -2, 3)"
   ]
  },
  {
   "cell_type": "markdown",
   "id": "9320ca78",
   "metadata": {},
   "source": [
    "6. Определить промежутки, на котором f > 0"
   ]
  },
  {
   "cell_type": "code",
   "execution_count": 9,
   "id": "29316c07",
   "metadata": {},
   "outputs": [
    {
     "data": {
      "text/latex": [
       "$\\displaystyle - \\frac{3}{4} < x \\wedge x < \\frac{1}{2}$"
      ],
      "text/plain": [
       "(-3/4 < x) & (x < 1/2)"
      ]
     },
     "execution_count": 9,
     "metadata": {},
     "output_type": "execute_result"
    }
   ],
   "source": [
    "solve(f>0)\n",
    " \n"
   ]
  },
  {
   "cell_type": "markdown",
   "id": "8d969023",
   "metadata": {},
   "source": [
    "7. Определить промежутки, на котором f < 0"
   ]
  },
  {
   "cell_type": "code",
   "execution_count": 10,
   "id": "682d5310",
   "metadata": {},
   "outputs": [
    {
     "data": {
      "text/latex": [
       "$\\displaystyle \\frac{1}{2} < x \\vee x < - \\frac{3}{4}$"
      ],
      "text/plain": [
       "(1/2 < x) | (x < -3/4)"
      ]
     },
     "execution_count": 10,
     "metadata": {},
     "output_type": "execute_result"
    }
   ],
   "source": [
    "solve(f<0)\n"
   ]
  },
  {
   "cell_type": "code",
   "execution_count": null,
   "id": "110af35d",
   "metadata": {},
   "outputs": [],
   "source": []
  }
 ],
 "metadata": {
  "kernelspec": {
   "display_name": "Python 3 (ipykernel)",
   "language": "python",
   "name": "python3"
  },
  "language_info": {
   "codemirror_mode": {
    "name": "ipython",
    "version": 3
   },
   "file_extension": ".py",
   "mimetype": "text/x-python",
   "name": "python",
   "nbconvert_exporter": "python",
   "pygments_lexer": "ipython3",
   "version": "3.9.13"
  }
 },
 "nbformat": 4,
 "nbformat_minor": 5
}
